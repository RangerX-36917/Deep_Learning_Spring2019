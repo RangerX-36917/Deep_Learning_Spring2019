{
 "cells": [
  {
   "cell_type": "markdown",
   "metadata": {},
   "source": [
    "# Part 2: Multilayer Perceptrons"
   ]
  },
  {
   "cell_type": "markdown",
   "metadata": {},
   "source": [
    "### Task 1: Implement the MLP architecture "
   ]
  },
  {
   "cell_type": "markdown",
   "metadata": {},
   "source": [
    "#### building up MLP class (in mlp.py)"
   ]
  },
  {
   "cell_type": "code",
   "execution_count": 24,
   "metadata": {},
   "outputs": [],
   "source": [
    "# Default constants\n",
    "DNN_HIDDEN_UNITS_DEFAULT = '20'\n",
    "LEARNING_RATE_DEFAULT = 1e-2\n",
    "MAX_EPOCHS_DEFAULT = 1500\n",
    "EVAL_FREQ_DEFAULT = 10\n",
    "class MLP(object):\n",
    "    def __init__(self, x, y, n_inputs=2, n_hidden=[20], n_classes=2, learning_rate=0.01):\n",
    "        \"\"\"\n",
    "        Initializes multi-layer perceptron object.    \n",
    "        Args:\n",
    "            n_inputs: number of inputs (i.e., dimension of an input vector).\n",
    "            n_hidden: list of integers, where each integer is the number of units in each linear layer\n",
    "            n_classes: number of classes of the classification problem (i.e., output dimension of the network)\n",
    "        \"\"\"\n",
    "        self.n_inputs = n_inputs\n",
    "        self.n_classes = n_classes\n",
    "        self.learning_rate = learning_rate\n",
    "        self.x = x\n",
    "        self.y = y\n",
    "        self.linear_layers = []\n",
    "        self.relu_layers = []\n",
    "        self.linear_layers.append(Linear(self.n_inputs, n_hidden[0]))\n",
    "        self.relu_layers.append(ReLU())\n",
    "        for i in range(len(n_hidden)-1):\n",
    "            self.linear_layers.append(Linear(n_hidden[i], n_hidden[i+1]))\n",
    "            self.relu_layers.append(Relu())\n",
    "        # building the model\n",
    "        self.linear_layers.append(Linear(n_hidden[-1], self.n_classes))\n",
    "        self.SM = SoftMax()\n",
    "        self.CE = CrossEntropy()\n",
    "\n",
    "    def forward(self, h0):\n",
    "        \"\"\"\n",
    "        Predict network output from input by passing it through several layers.\n",
    "        Args:\n",
    "            h0: input to the network\n",
    "        Returns:\n",
    "            h2: output of the network\n",
    "        \"\"\"\n",
    "        a = self.linear_layers[0].forward(h0)\n",
    "        a = self.relu_layers[0].forward(a)\n",
    "        for i in range(1,len(self.relu_layers)):\n",
    "            a = self.linear_layers[i].forward(a)\n",
    "            a = self.relu_layers[i].forward(a)\n",
    "        a = self.linear_layers[-1].forward(a)\n",
    "        a = self.SM.forward(a)\n",
    "\n",
    "        return a\n",
    "\n",
    "    def backward(self, dout):\n",
    "        \"\"\"\n",
    "        Performs backward propagation pass given the loss gradients. \n",
    "        Args:\n",
    "            dout: gradients of the loss\n",
    "        \"\"\"\n",
    "        dout = self.linear_layers[-1].backward(dout)\n",
    "        for i in range(1,len(self.relu_layers)+1):\n",
    "            dout = self.relu_layers[-i].backward(dout)\n",
    "            dout = self.linear_layers[-i-1].backward(dout)\n",
    "        return dout\n",
    "\n",
    "    def predict(self, h0):\n",
    "        \"\"\"\n",
    "        Predict the result.\n",
    "        Args: \n",
    "            h0: input of the network\n",
    "        \"\"\"\n",
    "        h2 = self.forward(h0)\n",
    "        # transfer to one-hot\n",
    "        predict = np.zeros(h2.shape)\n",
    "        for i in range(len(h2)):\n",
    "            predict[i] = [1, 0] if h2[i][0] > h2[i][1] else [0, 1]\n",
    "        return predict"
   ]
  },
  {
   "cell_type": "markdown",
   "metadata": {},
   "source": [
    "#### specify layer modules (in modules.py)"
   ]
  },
  {
   "cell_type": "markdown",
   "metadata": {},
   "source": [
    "##### Linear model"
   ]
  },
  {
   "cell_type": "code",
   "execution_count": 25,
   "metadata": {},
   "outputs": [],
   "source": [
    "import numpy as np\n",
    "\n",
    "class Linear(object):\n",
    "    def __init__(self, in_features, out_features):\n",
    "        \"\"\"\n",
    "        Module initialisation.\n",
    "        Args:\n",
    "            in_features: input dimension\n",
    "            out_features: output dimension\n",
    "        TODO:\n",
    "        1) Initialize weights self.params['weight'] using normal distribution with mean = 0 and \n",
    "        std = 0.0001.\n",
    "        2) Initialize biases self.params['bias'] with 0. \n",
    "        3) Initialize gradients with zeros.\n",
    "        \"\"\"\n",
    "        self.in_features = in_features\n",
    "        self.out_features = out_features\n",
    "        self.params = {'weight': np.random.normal(0, 0.0001, size=(in_features, out_features)), 'bias': 0}\n",
    "        self.grads = {'weight': 0, 'bias': 0}\n",
    "        self.input = None\n",
    "\n",
    "    def forward(self, x):\n",
    "        \"\"\"\n",
    "        Forward pass (i.e., compute output from input).\n",
    "        Args:\n",
    "            x: input to the module\n",
    "        Returns:\n",
    "            out: output of the module\n",
    "        Hint: Similarly to pytorch, you can store the computed values inside the object\n",
    "        and use them in the backward pass computation. This is true for *all* forward methods of *all* modules in this class\n",
    "        \"\"\"\n",
    "        self.input = x\n",
    "        out = np.dot(x, self.params['weight']) + self.params['bias']\n",
    "        return out\n",
    "\n",
    "    def backward(self, dout):\n",
    "        \"\"\"\n",
    "        Backward pass (i.e., compute gradient).\n",
    "        Args:\n",
    "            dout: gradients of the previous module\n",
    "        Returns:\n",
    "            dx: gradients with respect to the input of the module\n",
    "        TODO:\n",
    "        Implement backward pass of the module. Store gradient of the loss with respect to \n",
    "        layer parameters in self.grads['weight'] and self.grads['bias']. \n",
    "        \"\"\"\n",
    "        self.grads['bias'] = dout\n",
    "        self.grads['weight'] = np.dot(self.input.T, dout)\n",
    "        dx = np.dot(dout, self.params['weight'].T)\n",
    "        return dx"
   ]
  },
  {
   "cell_type": "markdown",
   "metadata": {},
   "source": [
    "##### ReLU model"
   ]
  },
  {
   "cell_type": "code",
   "execution_count": 26,
   "metadata": {},
   "outputs": [],
   "source": [
    "\n",
    "class ReLU(object):\n",
    "    def __init__(self):\n",
    "        self.input = None\n",
    "\n",
    "    def forward(self, x):\n",
    "        \"\"\"\n",
    "        Forward pass.\n",
    "        Args:\n",
    "            x: input to the module\n",
    "        Returns:\n",
    "            out: output of the module\n",
    "        \"\"\"\n",
    "        self.input = x\n",
    "        out = np.maximum(0, x)\n",
    "        return out\n",
    "\n",
    "    def backward(self, dout):\n",
    "        \"\"\"\n",
    "        Backward pass.\n",
    "        Args:\n",
    "            dout: gradients of the previous module\n",
    "        Returns:\n",
    "            dx: gradients with respect to the input of the module\n",
    "        \"\"\"\n",
    "        dx = (self.input > 0)*dout\n",
    "        return dx\n"
   ]
  },
  {
   "cell_type": "markdown",
   "metadata": {},
   "source": [
    "##### SoftMax model\n",
    "note: Softmax doesn't have backward because I merge its backward function into CrossEntropy's backward function."
   ]
  },
  {
   "cell_type": "code",
   "execution_count": 27,
   "metadata": {},
   "outputs": [],
   "source": [
    "class SoftMax(object):\n",
    "    def __init__(self):\n",
    "        self.input = None\n",
    "\n",
    "    def forward(self, x):\n",
    "        \"\"\"\n",
    "        Forward pass.\n",
    "        Args:\n",
    "            x: input to the module\n",
    "        Returns:\n",
    "            out: output of the module\n",
    "    \n",
    "        TODO:\n",
    "        Implement forward pass of the module. \n",
    "        To stabilize computation you should use the so-called Max Trick\n",
    "        https://timvieira.github.io/blog/post/2014/02/11/exp-normalize-trick/\n",
    "        \n",
    "        \"\"\"\n",
    "        self.input = x\n",
    "        xmax = x.max()\n",
    "        out = np.exp(x - xmax)\n",
    "        out = out / out.sum()\n",
    "        return out\n",
    "    \n",
    "     "
   ]
  },
  {
   "cell_type": "markdown",
   "metadata": {},
   "source": [
    "##### Cross Entropy Loss"
   ]
  },
  {
   "cell_type": "code",
   "execution_count": 28,
   "metadata": {},
   "outputs": [],
   "source": [
    "class CrossEntropy(object):\n",
    "    def forward(self, x, y):\n",
    "        \"\"\"\n",
    "        Forward pass.\n",
    "        Args:\n",
    "            x: input to the module\n",
    "            y: labels of the input\n",
    "        Returns:\n",
    "            out: cross entropy loss\n",
    "        \"\"\"\n",
    "\n",
    "        out = -(np.multiply(np.log(x), y).sum())\n",
    "        return out\n",
    "\n",
    "\n",
    "    def backward(self, h2, target):\n",
    "        \"\"\"\n",
    "        Backward pass.\n",
    "        Args:\n",
    "            x: input to the module\n",
    "            y: labels of the input\n",
    "        Returns:\n",
    "            dx: gradient of the loss with respect to the input x.\n",
    "        \"\"\"\n",
    "        # h2: output of softMax\n",
    "        dx = h2 - target\n",
    "        return dx"
   ]
  },
  {
   "cell_type": "markdown",
   "metadata": {},
   "source": [
    "### Task 2: Implement training and testing script"
   ]
  },
  {
   "cell_type": "markdown",
   "metadata": {},
   "source": [
    "##### seperating the testing data from training data"
   ]
  },
  {
   "cell_type": "code",
   "execution_count": 29,
   "metadata": {},
   "outputs": [],
   "source": [
    "import matplotlib.pyplot as plt\n",
    "import numpy as np\n",
    "from sklearn import datasets as sd\n",
    "\n",
    "def onehot_trans(y):\n",
    "    out = np.zeros((len(y), 2))\n",
    "    for i in range(len(y)):\n",
    "        if y[i]:\n",
    "            out[i] = [1,0]\n",
    "        else:\n",
    "            out[i] = [0,1]\n",
    "    return out\n",
    "\n"
   ]
  },
  {
   "cell_type": "markdown",
   "metadata": {},
   "source": [
    "##### implement training and accuracy"
   ]
  },
  {
   "cell_type": "code",
   "execution_count": 30,
   "metadata": {},
   "outputs": [],
   "source": [
    "import argparse\n",
    "import numpy as np\n",
    "from __future__ import absolute_import\n",
    "from __future__ import division\n",
    "from __future__ import print_function\n",
    "\n",
    "def train(mlp_model,x_test, y_test, style=\"sgd\", epochs=MAX_EPOCHS_DEFAULT):\n",
    "    \"\"\"\n",
    "    Performs training and evaluation of MLP model.\n",
    "    NOTE: You should the model on the whole test set each eval_freq iterations.\n",
    "    \"\"\"\n",
    "    # YOUR TRAINING CODE GOES HERE\n",
    "    CE = CrossEntropy()\n",
    "    train_accuracies = []\n",
    "    test_accuracies = []\n",
    "    last_acc = 0\n",
    "    cur_acc = 0\n",
    "    for epoch in range(epochs):\n",
    "        weight = [0 for i in range(len(mlp_model.linear_layers))]\n",
    "        bias = [0 for i in range(len(mlp_model.linear_layers))]\n",
    "        test_accuracies.append(accuracy(mlp_model.predict(x_test), y_test))\n",
    "        if style == \"sgd\":\n",
    "            for xi, yi in zip(mlp_model.x, mlp_model.y):\n",
    "                xi = np.array([xi])\n",
    "                yi = np.array([yi])\n",
    "                h2 = mlp_model.forward(xi)\n",
    "                dout = CE.backward(h2, yi)\n",
    "                mlp_model.backward(dout)\n",
    "                for i in range(len(mlp_model.linear_layers)):\n",
    "                    mlp_model.linear_layers[i].params['weight'] -= mlp_model.learning_rate*mlp_model.linear_layers[i].grads['weight']\n",
    "                    mlp_model.linear_layers[i].params['bias'] -= mlp_model.learning_rate*mlp_model.linear_layers[i].grads['bias']\n",
    "            cur_acc = accuracy(mlp_model.predict(mlp_model.x), mlp_model.y)\n",
    "            train_accuracies.append(cur_acc)\n",
    "                \n",
    "        if style == \"bgd\":\n",
    "            \n",
    "            for xi, yi in zip(mlp_model.x, mlp_model.y):\n",
    "                xi = np.array([xi])\n",
    "                yi = np.array([yi])\n",
    "                h2 = mlp_model.forward(xi)\n",
    "                dout = CE.backward(h2, yi)\n",
    "                mlp_model.backward(dout)\n",
    "                for i in range(len(mlp_model.linear_layers)):\n",
    "                    weight[i] += mlp_model.linear_layers[i].grads['weight']\n",
    "                    bias[i] += mlp_model.linear_layers[i].grads['bias']\n",
    "                    \n",
    "             # calculate the averages\n",
    "            for i in range(len(weight)):\n",
    "                weight[i] = np.array(weight[i])\n",
    "                weight[i] /= len(mlp_model.x)\n",
    "            for i in range(len(bias)):\n",
    "                bias[i] = np.array(bias[i])\n",
    "                bias[i] /= len(mlp_model.x)\n",
    "            \n",
    "            # t: shrink the step size during trainnig \n",
    "            for i in range(len(mlp_model.linear_layers)):\n",
    "                    mlp_model.linear_layers[i].params['weight'] -= mlp_model.learning_rate*weight[i]\n",
    "                    mlp_model.linear_layers[i].params['bias'] -= mlp_model.learning_rate*bias[i]\n",
    "            \n",
    "            cur_acc = accuracy(mlp_model.predict(mlp_model.x), mlp_model.y)\n",
    "#             print(\"bgd\",cur_acc)\n",
    "            train_accuracies.append(cur_acc)\n",
    "            \n",
    "        if epoch> 1000 and abs(cur_acc - last_acc) < 0.001:\n",
    "            break\n",
    "        else:\n",
    "            last_acc = cur_acc\n",
    "    return train_accuracies, test_accuracies\n",
    "        \n",
    "def accuracy(predictions, targets):\n",
    "    \"\"\"\n",
    "    Computes the prediction accuracy, i.e., the average of correct predictions\n",
    "    of the network.\n",
    "    Args:\n",
    "        predictions: 2D float array of size [number_of_data_samples, n_classes]\n",
    "        targets: 2D int array of size [number_of_data_samples, n_classes] with one-hot encoding of ground-truth labels\n",
    "    Returns:\n",
    "        accuracy: scalar float, the accuracy of predictions.\n",
    "    \"\"\"\n",
    "    accuracy = metrics.accuracy_score(targets, predictions)\n",
    "    return accuracy"
   ]
  },
  {
   "cell_type": "markdown",
   "metadata": {},
   "source": [
    "### Task 3: results and accuracy"
   ]
  },
  {
   "cell_type": "markdown",
   "metadata": {},
   "source": [
    "##### get training data and testing data"
   ]
  },
  {
   "cell_type": "code",
   "execution_count": 33,
   "metadata": {},
   "outputs": [
    {
     "data": {
      "image/png": "[encoded data removed]",
      "text/plain": [
       "<Figure size 432x288 with 1 Axes>"
      ]
     },
     "metadata": {},
     "output_type": "display_data"
    },
    {
     "data": {
      "image/png": "[encoded data removed]",
      "text/plain": [
       "<Figure size 432x288 with 1 Axes>"
      ]
     },
     "metadata": {},
     "output_type": "display_data"
    }
   ],
   "source": [
    "x_train, y_train = sd.make_moons(1000, noise=0.01)\n",
    "x_test, y_test = sd.make_moons(200, noise=0.01)\n",
    "# view of the data\n",
    "plt.scatter(x_train[:,0],x_train[:,1],c=y_train, label=\"full data set\")\n",
    "plt.legend()\n",
    "plt.show()\n",
    "\n",
    "y_train = onehot_trans(y_train)\n",
    "y_test = onehot_trans(y_test)\n",
    "\n",
    "# seperate the training data and test data\n",
    "# sep = (int)(0.8 * len(x))\n",
    "# x_train = x[:sep,:]\n",
    "# x_test = x[sep:,:]\n",
    "# y_train = y[:sep,:]\n",
    "# y_test = y[sep:,:]\n",
    "\n",
    "plt.scatter(x_train[:,0],x_train[:,1], label=\"train data set\")\n",
    "plt.legend()\n",
    "plt.show()\n"
   ]
  },
  {
   "cell_type": "markdown",
   "metadata": {},
   "source": [
    "##### main method to test the result"
   ]
  },
  {
   "cell_type": "code",
   "execution_count": 34,
   "metadata": {},
   "outputs": [
    {
     "name": "stdout",
     "output_type": "stream",
     "text": [
      "BGD test:\n"
     ]
    },
    {
     "data": {
      "image/png": "[encoded data removed]",
      "text/plain": [
       "<Figure size 432x288 with 1 Axes>"
      ]
     },
     "metadata": {},
     "output_type": "display_data"
    },
    {
     "name": "stdout",
     "output_type": "stream",
     "text": [
      "epoch number: 1002\n",
      "final train accuracy: 0.794\n",
      "final test accuracy: 0.795\n",
      "SGD test:\n"
     ]
    },
    {
     "data": {
      "image/png": "[encoded data removed]",
      "text/plain": [
       "<Figure size 432x288 with 1 Axes>"
      ]
     },
     "metadata": {},
     "output_type": "display_data"
    },
    {
     "name": "stdout",
     "output_type": "stream",
     "text": [
      "epoch number: 1002\n",
      "final train accuracy: 0.914\n",
      "final test accuracy: 0.905\n"
     ]
    }
   ],
   "source": [
    "# import argparse\n",
    "import numpy as np\n",
    "from sklearn import datasets as sd\n",
    "from sklearn import metrics\n",
    "print(\"BGD test:\")\n",
    "mlp = MLP(x_train, y_train)\n",
    "train_accuracies, test_accuracies = train(mlp,x_test, y_test,style=\"bgd\")\n",
    "plt.plot(np.arange(0, len(train_accuracies)), train_accuracies, label=\"train accuracy\")\n",
    "plt.plot(np.arange(0, len(test_accuracies)), test_accuracies, label=\"test accuracy\")\n",
    "plt.title('bgd test', fontsize=17)\n",
    "plt.legend()\n",
    "plt.show()\n",
    "print(\"epoch number:\", len(test_accuracies))\n",
    "# print(\"train_acc\",train_accuracies)   \n",
    "# print(\"test_acc\",test_accuracies)\n",
    "\n",
    "print(\"final train accuracy:\", train_accuracies[-1])\n",
    "print(\"final test accuracy:\", test_accuracies[-1])\n",
    "\n",
    "\n",
    "print(\"SGD test:\")\n",
    "mlp = MLP(x_train, y_train)\n",
    "train_accuracies, test_accuracies = train(mlp,x_test, y_test,style=\"sgd\")\n",
    "plt.plot(np.arange(0, len(train_accuracies)), train_accuracies, label=\"train accuracy\")\n",
    "plt.plot(np.arange(0, len(test_accuracies)), test_accuracies, label=\"test accuracy\")\n",
    "plt.title('sgd test', fontsize=17)\n",
    "plt.legend()\n",
    "plt.show()\n",
    "print(\"epoch number:\", len(test_accuracies))\n",
    "# print(\"train_acc\",train_accuracies)   \n",
    "# print(\"test_acc\",test_accuracies)\n",
    "\n",
    "print(\"final train accuracy:\", train_accuracies[-1])\n",
    "print(\"final test accuracy:\", test_accuracies[-1])\n",
    "\n"
   ]
  },
  {
   "cell_type": "code",
   "execution_count": null,
   "metadata": {},
   "outputs": [],
   "source": []
  },
  {
   "cell_type": "code",
   "execution_count": null,
   "metadata": {},
   "outputs": [],
   "source": []
  }
 ],
 "metadata": {
  "kernelspec": {
   "display_name": "Python 3",
   "language": "python",
   "name": "python3"
  },
  "language_info": {
   "codemirror_mode": {
    "name": "ipython",
    "version": 3
   },
   "file_extension": ".py",
   "mimetype": "text/x-python",
   "name": "python",
   "nbconvert_exporter": "python",
   "pygments_lexer": "ipython3",
   "version": "3.7.2"
  }
 },
 "nbformat": 4,
 "nbformat_minor": 2
}
